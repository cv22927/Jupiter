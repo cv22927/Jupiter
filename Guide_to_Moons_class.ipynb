{
 "cells": [
  {
   "cell_type": "markdown",
   "id": "97c6511d",
   "metadata": {},
   "source": [
    "<center><u><b>Guide to the Moons class</b></u></center>"
   ]
  },
  {
   "cell_type": "markdown",
   "id": "318cee44",
   "metadata": {},
   "source": [
    "Import the Moons class from the jupiter.py module."
   ]
  },
  {
   "cell_type": "code",
   "execution_count": 1,
   "id": "aeb0e04f",
   "metadata": {},
   "outputs": [],
   "source": [
    "from jupiter import Moons"
   ]
  },
  {
   "cell_type": "markdown",
   "id": "61f6a92d",
   "metadata": {},
   "source": [
    "To use the class, call an instance of it and assign it to a variable. The instance can then be used to call different methods."
   ]
  },
  {
   "cell_type": "code",
   "execution_count": 2,
   "id": "3b2482b3",
   "metadata": {},
   "outputs": [],
   "source": [
    "moon_instance = Moons()"
   ]
  },
  {
   "cell_type": "markdown",
   "id": "17a7ba0a",
   "metadata": {},
   "source": [
    "The methods in this class are:"
   ]
  },
  {
   "cell_type": "markdown",
   "id": "480402c4",
   "metadata": {},
   "source": [
    "1. <b>moon_info_specific</b> - to find a particular piece of information about a moon. <br> Information includes: <br>\n",
    "- \"period_days\" period of moon in days\n",
    "- \"distance_km\" distance from jupiter to the moon in km\n",
    "- \"radius_km\" of the moon in km\n",
    "- \"mag\" for apparent magnitude of the moon \n",
    "- \"mass_kg\" of the moon in kg\n",
    "- \"group\" the group the moon is in\n",
    "- \"ecc\" for eccentricity of the moon\n",
    "- \"inclination_deg\" for inclination in degrees "
   ]
  },
  {
   "cell_type": "code",
   "execution_count": 3,
   "id": "57fb7a42",
   "metadata": {},
   "outputs": [
    {
     "name": "stdout",
     "output_type": "stream",
     "text": [
      "The ecc of Ganymede is 0.0013.\n"
     ]
    }
   ],
   "source": [
    "moon_instance.moon_info_specific(\"Ganymede\", attribute = \"ecc\")"
   ]
  },
  {
   "cell_type": "markdown",
   "id": "39fe7f09",
   "metadata": {},
   "source": [
    "2. <b> moon_info </b> - for all the information about a moon"
   ]
  },
  {
   "cell_type": "code",
   "execution_count": 4,
   "id": "b9d0f63e",
   "metadata": {},
   "outputs": [
    {
     "data": {
      "text/plain": [
       "period_days                         16.689018\n",
       "distance_km                         1882700.0\n",
       "radius_km                              2410.3\n",
       "mag                                      5.65\n",
       "mass_kg            107593800000000002883584.0\n",
       "group                                Galilean\n",
       "ecc                                    0.0074\n",
       "inclination_deg                          2.02\n",
       "Name: Callisto, dtype: object"
      ]
     },
     "execution_count": 4,
     "metadata": {},
     "output_type": "execute_result"
    }
   ],
   "source": [
    "moon_instance.moon_info(\"Callisto\")"
   ]
  },
  {
   "cell_type": "markdown",
   "id": "e0cab366",
   "metadata": {},
   "source": [
    "3. <b> correlations </b> - returns the correlations for all the information in the data frame"
   ]
  },
  {
   "cell_type": "code",
   "execution_count": 5,
   "id": "a5fdef97",
   "metadata": {},
   "outputs": [
    {
     "name": "stderr",
     "output_type": "stream",
     "text": [
      "/home/jovyan/assessment1/jupiter.py:54: FutureWarning: The default value of numeric_only in DataFrame.corr is deprecated. In a future version, it will default to False. Select only valid columns or specify the value of numeric_only to silence this warning.\n",
      "  return self.data.corr()\n"
     ]
    },
    {
     "data": {
      "text/html": [
       "<div>\n",
       "<style scoped>\n",
       "    .dataframe tbody tr th:only-of-type {\n",
       "        vertical-align: middle;\n",
       "    }\n",
       "\n",
       "    .dataframe tbody tr th {\n",
       "        vertical-align: top;\n",
       "    }\n",
       "\n",
       "    .dataframe thead th {\n",
       "        text-align: right;\n",
       "    }\n",
       "</style>\n",
       "<table border=\"1\" class=\"dataframe\">\n",
       "  <thead>\n",
       "    <tr style=\"text-align: right;\">\n",
       "      <th></th>\n",
       "      <th>period_days</th>\n",
       "      <th>distance_km</th>\n",
       "      <th>radius_km</th>\n",
       "      <th>mag</th>\n",
       "      <th>mass_kg</th>\n",
       "      <th>ecc</th>\n",
       "      <th>inclination_deg</th>\n",
       "    </tr>\n",
       "  </thead>\n",
       "  <tbody>\n",
       "    <tr>\n",
       "      <th>period_days</th>\n",
       "      <td>1.000000</td>\n",
       "      <td>0.991521</td>\n",
       "      <td>-0.534434</td>\n",
       "      <td>0.742646</td>\n",
       "      <td>-0.504430</td>\n",
       "      <td>0.737181</td>\n",
       "      <td>0.969493</td>\n",
       "    </tr>\n",
       "    <tr>\n",
       "      <th>distance_km</th>\n",
       "      <td>0.991521</td>\n",
       "      <td>1.000000</td>\n",
       "      <td>-0.567266</td>\n",
       "      <td>0.799187</td>\n",
       "      <td>-0.453339</td>\n",
       "      <td>0.750819</td>\n",
       "      <td>0.953873</td>\n",
       "    </tr>\n",
       "    <tr>\n",
       "      <th>radius_km</th>\n",
       "      <td>-0.534434</td>\n",
       "      <td>-0.567266</td>\n",
       "      <td>1.000000</td>\n",
       "      <td>-0.887393</td>\n",
       "      <td>0.968379</td>\n",
       "      <td>-0.478901</td>\n",
       "      <td>-0.487645</td>\n",
       "    </tr>\n",
       "    <tr>\n",
       "      <th>mag</th>\n",
       "      <td>0.742646</td>\n",
       "      <td>0.799187</td>\n",
       "      <td>-0.887393</td>\n",
       "      <td>1.000000</td>\n",
       "      <td>-0.861359</td>\n",
       "      <td>0.554617</td>\n",
       "      <td>0.688529</td>\n",
       "    </tr>\n",
       "    <tr>\n",
       "      <th>mass_kg</th>\n",
       "      <td>-0.504430</td>\n",
       "      <td>-0.453339</td>\n",
       "      <td>0.968379</td>\n",
       "      <td>-0.861359</td>\n",
       "      <td>1.000000</td>\n",
       "      <td>-0.543138</td>\n",
       "      <td>-0.489378</td>\n",
       "    </tr>\n",
       "    <tr>\n",
       "      <th>ecc</th>\n",
       "      <td>0.737181</td>\n",
       "      <td>0.750819</td>\n",
       "      <td>-0.478901</td>\n",
       "      <td>0.554617</td>\n",
       "      <td>-0.543138</td>\n",
       "      <td>1.000000</td>\n",
       "      <td>0.645961</td>\n",
       "    </tr>\n",
       "    <tr>\n",
       "      <th>inclination_deg</th>\n",
       "      <td>0.969493</td>\n",
       "      <td>0.953873</td>\n",
       "      <td>-0.487645</td>\n",
       "      <td>0.688529</td>\n",
       "      <td>-0.489378</td>\n",
       "      <td>0.645961</td>\n",
       "      <td>1.000000</td>\n",
       "    </tr>\n",
       "  </tbody>\n",
       "</table>\n",
       "</div>"
      ],
      "text/plain": [
       "                 period_days  distance_km  radius_km       mag   mass_kg  \\\n",
       "period_days         1.000000     0.991521  -0.534434  0.742646 -0.504430   \n",
       "distance_km         0.991521     1.000000  -0.567266  0.799187 -0.453339   \n",
       "radius_km          -0.534434    -0.567266   1.000000 -0.887393  0.968379   \n",
       "mag                 0.742646     0.799187  -0.887393  1.000000 -0.861359   \n",
       "mass_kg            -0.504430    -0.453339   0.968379 -0.861359  1.000000   \n",
       "ecc                 0.737181     0.750819  -0.478901  0.554617 -0.543138   \n",
       "inclination_deg     0.969493     0.953873  -0.487645  0.688529 -0.489378   \n",
       "\n",
       "                      ecc  inclination_deg  \n",
       "period_days      0.737181         0.969493  \n",
       "distance_km      0.750819         0.953873  \n",
       "radius_km       -0.478901        -0.487645  \n",
       "mag              0.554617         0.688529  \n",
       "mass_kg         -0.543138        -0.489378  \n",
       "ecc              1.000000         0.645961  \n",
       "inclination_deg  0.645961         1.000000  "
      ]
     },
     "execution_count": 5,
     "metadata": {},
     "output_type": "execute_result"
    }
   ],
   "source": [
    "moon_instance.correlations()"
   ]
  },
  {
   "cell_type": "markdown",
   "id": "9d4923eb",
   "metadata": {},
   "source": [
    "4. <b> scatterplots </b> - plots a scatter graph of two chosen variables using the same variable names as given in 1. moon_info_specific"
   ]
  },
  {
   "cell_type": "code",
   "execution_count": 6,
   "id": "07a8b841",
   "metadata": {},
   "outputs": [
    {
     "data": {
      "image/png": "[encoded data removed]",
      "text/plain": [
       "<Figure size 640x480 with 1 Axes>"
      ]
     },
     "metadata": {},
     "output_type": "display_data"
    }
   ],
   "source": [
    "moon_instance.scatterplots(X = \"radius_km\", Y = \"mass_kg\")"
   ]
  },
  {
   "cell_type": "markdown",
   "id": "9379c53c",
   "metadata": {},
   "source": [
    "This graph shows that as the radius increases the mass increases, as expected. However, the data for the masses of the moons is not extensive and more values are needed to properly show the upward trend."
   ]
  },
  {
   "cell_type": "markdown",
   "id": "87516ff4",
   "metadata": {},
   "source": [
    "5. <b> catplots </b> - plots a categorical graph (\"group\" against different variables) of different kinds (K) including: <br>\n",
    "- strip plot \"strip\"\n",
    "- swarm plot \"swarm\"\n",
    "- box plot \"box\"\n",
    "- violin plot \"violin\"\n",
    "- boxen plot \"boxen\"\n",
    "- point plot \"point\"\n",
    "- bar plot \"bar\"<br>\n",
    "The O variable is the order of the X variable - \"group\""
   ]
  },
  {
   "cell_type": "code",
   "execution_count": 7,
   "id": "968854a1",
   "metadata": {},
   "outputs": [
    {
     "name": "stderr",
     "output_type": "stream",
     "text": [
      "/opt/conda/lib/python3.9/site-packages/seaborn/axisgrid.py:118: UserWarning: The figure layout has changed to tight\n",
      "  self._figure.tight_layout(*args, **kwargs)\n"
     ]
    },
    {
     "data": {
      "image/png": "[encoded data removed]",
      "text/plain": [
       "<Figure size 500x500 with 1 Axes>"
      ]
     },
     "metadata": {},
     "output_type": "display_data"
    }
   ],
   "source": [
    "moon_instance.catplots(X = \"group\", Y = \"distance_km\", K = \"bar\", O = [\"Inner\", \"Galilean\", \"Himalia\", \"Hamilia\", \"other\", \"Ananke\", \"Carme\", \"Pasiphae\"])"
   ]
  },
  {
   "cell_type": "markdown",
   "id": "8e110144",
   "metadata": {},
   "source": [
    "This graph shows how the moons are grouped by distance from Jupiter, with only \"other\" having a large variabilty shown by the black line."
   ]
  },
  {
   "cell_type": "markdown",
   "id": "1f150601",
   "metadata": {},
   "source": [
    "6. <b> stats </b> - shows statistical summary of the data frame"
   ]
  },
  {
   "cell_type": "code",
   "execution_count": 8,
   "id": "c9634373",
   "metadata": {},
   "outputs": [
    {
     "name": "stdout",
     "output_type": "stream",
     "text": [
      "       period_days   distance_km    radius_km        mag       mass_kg  \\\n",
      "count    56.000000  5.600000e+01    56.000000  53.000000  6.000000e+00   \n",
      "mean    525.998146  1.775655e+07   158.969643  20.418302  6.551798e+22   \n",
      "std     272.670243  8.253688e+06   557.730632   4.926587  6.010469e+22   \n",
      "min       0.290000  1.280000e+05     1.000000   4.610000  2.080000e+18   \n",
      "25%     258.750000  1.170252e+07     1.500000  20.800000  1.200276e+22   \n",
      "50%     632.500000  2.129009e+07     2.000000  22.500000  6.865891e+22   \n",
      "75%     725.500000  2.336375e+07    11.562500  23.000000  1.030252e+23   \n",
      "max     787.000000  2.458309e+07  2634.100000  23.700000  1.481900e+23   \n",
      "\n",
      "             ecc  inclination_deg  \n",
      "count  56.000000        56.000000  \n",
      "mean    0.222922       113.571607  \n",
      "std     0.126899        64.562822  \n",
      "min     0.000200         0.030000  \n",
      "25%     0.159201        30.582500  \n",
      "50%     0.228000       148.600000  \n",
      "75%     0.298858       159.175000  \n",
      "max     0.611016       166.200000  \n"
     ]
    }
   ],
   "source": [
    "moon_instance.stats()"
   ]
  },
  {
   "cell_type": "markdown",
   "id": "abb0284b",
   "metadata": {},
   "source": [
    "7. <b> regression </b> - performs a linear regression of the period (T) and the distance between the moon and Jupiter (a) <br>\n",
    "    This is to test the relationship $$ T^2 = \\frac{4\\pi^2}{GM}a^3 $$ where G is the gravitational constant and M is the mass of Jupiter. With this model, the mass of Jupiter can be approximated."
   ]
  },
  {
   "cell_type": "code",
   "execution_count": 9,
   "id": "ff445f54",
   "metadata": {},
   "outputs": [
    {
     "name": "stderr",
     "output_type": "stream",
     "text": [
      "/opt/conda/lib/python3.9/site-packages/seaborn/axisgrid.py:118: UserWarning: The figure layout has changed to tight\n",
      "  self._figure.tight_layout(*args, **kwargs)\n"
     ]
    },
    {
     "data": {
      "image/png": "[encoded data removed]",
      "text/plain": [
       "<Figure size 500x500 with 1 Axes>"
      ]
     },
     "metadata": {},
     "output_type": "display_data"
    },
    {
     "name": "stdout",
     "output_type": "stream",
     "text": [
      "The approximated mass of Jupiter is 1.9084748371223816e+27\n",
      "The r2_score is 0.987554534179761\n"
     ]
    }
   ],
   "source": [
    "moon_instance.regression()"
   ]
  },
  {
   "cell_type": "markdown",
   "id": "c3d36718",
   "metadata": {},
   "source": [
    "The graph shows that the relationship between the period squared and the distance cubed is linear. The model is valid as the regression line is from the predicted values and it fits the data with an r^2 score of 0.987 showing that the model is accurate. "
   ]
  },
  {
   "cell_type": "markdown",
   "id": "1bd8d03f",
   "metadata": {},
   "source": [
    "The literature value of Jupiter's mass is 1.898 × 10^27 kg which is a 0.6% error. "
   ]
  },
  {
   "cell_type": "code",
   "execution_count": null,
   "id": "aafbb8b5",
   "metadata": {},
   "outputs": [],
   "source": []
  }
 ],
 "metadata": {
  "kernelspec": {
   "display_name": "Python 3 (ipykernel)",
   "language": "python",
   "name": "python3"
  },
  "language_info": {
   "codemirror_mode": {
    "name": "ipython",
    "version": 3
   },
   "file_extension": ".py",
   "mimetype": "text/x-python",
   "name": "python",
   "nbconvert_exporter": "python",
   "pygments_lexer": "ipython3",
   "version": "3.9.13"
  }
 },
 "nbformat": 4,
 "nbformat_minor": 5
}
